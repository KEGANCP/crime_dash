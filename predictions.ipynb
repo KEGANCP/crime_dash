{
 "cells": [
  {
   "cell_type": "code",
   "execution_count": 1,
   "id": "88351b93",
   "metadata": {},
   "outputs": [],
   "source": [
    "# Import dependencies\n",
    "import pandas as pd\n",
    "import numpy as np\n",
    "from path import Path\n",
    "from sklearn import tree\n",
    "from sklearn.ensemble import RandomForestClassifier\n",
    "from sklearn.ensemble import RandomForestRegressor\n",
    "from sklearn.preprocessing import StandardScaler\n",
    "from sklearn.model_selection import train_test_split\n",
    "from sklearn.metrics import confusion_matrix, accuracy_score, classification_report\n",
    "import warnings"
   ]
  },
  {
   "cell_type": "code",
   "execution_count": 2,
   "id": "8aec8884",
   "metadata": {},
   "outputs": [
    {
     "data": {
      "text/html": [
       "<div>\n",
       "<style scoped>\n",
       "    .dataframe tbody tr th:only-of-type {\n",
       "        vertical-align: middle;\n",
       "    }\n",
       "\n",
       "    .dataframe tbody tr th {\n",
       "        vertical-align: top;\n",
       "    }\n",
       "\n",
       "    .dataframe thead th {\n",
       "        text-align: right;\n",
       "    }\n",
       "</style>\n",
       "<table border=\"1\" class=\"dataframe\">\n",
       "  <thead>\n",
       "    <tr style=\"text-align: right;\">\n",
       "      <th></th>\n",
       "      <th>ID</th>\n",
       "      <th>Primary_Type</th>\n",
       "      <th>Violence_Status</th>\n",
       "      <th>Description</th>\n",
       "      <th>Location_Description</th>\n",
       "      <th>Arrest</th>\n",
       "      <th>Community_Area</th>\n",
       "      <th>Latitude</th>\n",
       "      <th>Longitude</th>\n",
       "      <th>Date</th>\n",
       "      <th>Time</th>\n",
       "      <th>Average_Wind_Speed</th>\n",
       "      <th>Average_Temperature</th>\n",
       "      <th>Fog_Ice_Freezing_Fog</th>\n",
       "      <th>Thunder</th>\n",
       "      <th>Smoke_or_Haze</th>\n",
       "      <th>Community_Name</th>\n",
       "    </tr>\n",
       "  </thead>\n",
       "  <tbody>\n",
       "    <tr>\n",
       "      <th>0</th>\n",
       "      <td>11698035</td>\n",
       "      <td>ASSAULT</td>\n",
       "      <td>VIOLENT</td>\n",
       "      <td>SIMPLE</td>\n",
       "      <td>APARTMENT</td>\n",
       "      <td>f</td>\n",
       "      <td>44</td>\n",
       "      <td>41.747196</td>\n",
       "      <td>-87.602638</td>\n",
       "      <td>1/1/19</td>\n",
       "      <td>8:00:00</td>\n",
       "      <td>7.61</td>\n",
       "      <td>31</td>\n",
       "      <td>1.0</td>\n",
       "      <td>NaN</td>\n",
       "      <td>NaN</td>\n",
       "      <td>Chatham</td>\n",
       "    </tr>\n",
       "    <tr>\n",
       "      <th>1</th>\n",
       "      <td>11884966</td>\n",
       "      <td>OFFENSE INVOLVING CHILDREN</td>\n",
       "      <td>NON-VIOLENT</td>\n",
       "      <td>CHILD PORNOGRAPHY</td>\n",
       "      <td>RESIDENCE</td>\n",
       "      <td>f</td>\n",
       "      <td>55</td>\n",
       "      <td>41.683664</td>\n",
       "      <td>-87.532842</td>\n",
       "      <td>1/1/19</td>\n",
       "      <td>0:01:00</td>\n",
       "      <td>7.61</td>\n",
       "      <td>31</td>\n",
       "      <td>1.0</td>\n",
       "      <td>NaN</td>\n",
       "      <td>NaN</td>\n",
       "      <td>Hegewisch</td>\n",
       "    </tr>\n",
       "    <tr>\n",
       "      <th>2</th>\n",
       "      <td>11878985</td>\n",
       "      <td>THEFT</td>\n",
       "      <td>NON-VIOLENT</td>\n",
       "      <td>OVER $500</td>\n",
       "      <td>OTHER</td>\n",
       "      <td>f</td>\n",
       "      <td>18</td>\n",
       "      <td>41.923613</td>\n",
       "      <td>-87.793512</td>\n",
       "      <td>1/1/19</td>\n",
       "      <td>0:00:00</td>\n",
       "      <td>7.61</td>\n",
       "      <td>31</td>\n",
       "      <td>1.0</td>\n",
       "      <td>NaN</td>\n",
       "      <td>NaN</td>\n",
       "      <td>Montclare</td>\n",
       "    </tr>\n",
       "    <tr>\n",
       "      <th>3</th>\n",
       "      <td>11682859</td>\n",
       "      <td>OFFENSE INVOLVING CHILDREN</td>\n",
       "      <td>NON-VIOLENT</td>\n",
       "      <td>SEX ASSLT OF CHILD BY FAM MBR</td>\n",
       "      <td>RESIDENCE</td>\n",
       "      <td>f</td>\n",
       "      <td>69</td>\n",
       "      <td>41.759333</td>\n",
       "      <td>-87.633307</td>\n",
       "      <td>1/1/19</td>\n",
       "      <td>0:00:00</td>\n",
       "      <td>7.61</td>\n",
       "      <td>31</td>\n",
       "      <td>1.0</td>\n",
       "      <td>NaN</td>\n",
       "      <td>NaN</td>\n",
       "      <td>Greater Grand Crossing</td>\n",
       "    </tr>\n",
       "    <tr>\n",
       "      <th>4</th>\n",
       "      <td>11739161</td>\n",
       "      <td>OFFENSE INVOLVING CHILDREN</td>\n",
       "      <td>NON-VIOLENT</td>\n",
       "      <td>AGG CRIM SEX ABUSE FAM MEMBER</td>\n",
       "      <td>APARTMENT</td>\n",
       "      <td>f</td>\n",
       "      <td>54</td>\n",
       "      <td>41.656345</td>\n",
       "      <td>-87.605130</td>\n",
       "      <td>1/1/19</td>\n",
       "      <td>0:00:00</td>\n",
       "      <td>7.61</td>\n",
       "      <td>31</td>\n",
       "      <td>1.0</td>\n",
       "      <td>NaN</td>\n",
       "      <td>NaN</td>\n",
       "      <td>Riverdale</td>\n",
       "    </tr>\n",
       "  </tbody>\n",
       "</table>\n",
       "</div>"
      ],
      "text/plain": [
       "         ID                Primary_Type Violence_Status  \\\n",
       "0  11698035                     ASSAULT         VIOLENT   \n",
       "1  11884966  OFFENSE INVOLVING CHILDREN     NON-VIOLENT   \n",
       "2  11878985                       THEFT     NON-VIOLENT   \n",
       "3  11682859  OFFENSE INVOLVING CHILDREN     NON-VIOLENT   \n",
       "4  11739161  OFFENSE INVOLVING CHILDREN     NON-VIOLENT   \n",
       "\n",
       "                     Description Location_Description Arrest  Community_Area  \\\n",
       "0                         SIMPLE            APARTMENT      f              44   \n",
       "1              CHILD PORNOGRAPHY            RESIDENCE      f              55   \n",
       "2                      OVER $500                OTHER      f              18   \n",
       "3  SEX ASSLT OF CHILD BY FAM MBR            RESIDENCE      f              69   \n",
       "4  AGG CRIM SEX ABUSE FAM MEMBER            APARTMENT      f              54   \n",
       "\n",
       "    Latitude  Longitude    Date     Time  Average_Wind_Speed  \\\n",
       "0  41.747196 -87.602638  1/1/19  8:00:00                7.61   \n",
       "1  41.683664 -87.532842  1/1/19  0:01:00                7.61   \n",
       "2  41.923613 -87.793512  1/1/19  0:00:00                7.61   \n",
       "3  41.759333 -87.633307  1/1/19  0:00:00                7.61   \n",
       "4  41.656345 -87.605130  1/1/19  0:00:00                7.61   \n",
       "\n",
       "   Average_Temperature  Fog_Ice_Freezing_Fog  Thunder  Smoke_or_Haze  \\\n",
       "0                   31                   1.0      NaN            NaN   \n",
       "1                   31                   1.0      NaN            NaN   \n",
       "2                   31                   1.0      NaN            NaN   \n",
       "3                   31                   1.0      NaN            NaN   \n",
       "4                   31                   1.0      NaN            NaN   \n",
       "\n",
       "           Community_Name  \n",
       "0                 Chatham  \n",
       "1               Hegewisch  \n",
       "2               Montclare  \n",
       "3  Greater Grand Crossing  \n",
       "4               Riverdale  "
      ]
     },
     "execution_count": 2,
     "metadata": {},
     "output_type": "execute_result"
    }
   ],
   "source": [
    "df = pd.read_csv('data/crime.csv')\n",
    "df.head()"
   ]
  },
  {
   "cell_type": "code",
   "execution_count": 3,
   "id": "39784f71",
   "metadata": {},
   "outputs": [
    {
     "data": {
      "text/html": [
       "<div>\n",
       "<style scoped>\n",
       "    .dataframe tbody tr th:only-of-type {\n",
       "        vertical-align: middle;\n",
       "    }\n",
       "\n",
       "    .dataframe tbody tr th {\n",
       "        vertical-align: top;\n",
       "    }\n",
       "\n",
       "    .dataframe thead th {\n",
       "        text-align: right;\n",
       "    }\n",
       "</style>\n",
       "<table border=\"1\" class=\"dataframe\">\n",
       "  <thead>\n",
       "    <tr style=\"text-align: right;\">\n",
       "      <th></th>\n",
       "      <th>Date</th>\n",
       "      <th>Violence_Status</th>\n",
       "      <th>Community_Area</th>\n",
       "      <th>Average_Wind_Speed</th>\n",
       "      <th>Average_Temperature</th>\n",
       "      <th>Fog_Ice_Freezing_Fog</th>\n",
       "      <th>Smoke_or_Haze</th>\n",
       "    </tr>\n",
       "  </thead>\n",
       "  <tbody>\n",
       "    <tr>\n",
       "      <th>0</th>\n",
       "      <td>1/1/19</td>\n",
       "      <td>VIOLENT</td>\n",
       "      <td>44</td>\n",
       "      <td>7.61</td>\n",
       "      <td>31</td>\n",
       "      <td>1.0</td>\n",
       "      <td>0.0</td>\n",
       "    </tr>\n",
       "    <tr>\n",
       "      <th>1</th>\n",
       "      <td>1/1/19</td>\n",
       "      <td>NON-VIOLENT</td>\n",
       "      <td>55</td>\n",
       "      <td>7.61</td>\n",
       "      <td>31</td>\n",
       "      <td>1.0</td>\n",
       "      <td>0.0</td>\n",
       "    </tr>\n",
       "    <tr>\n",
       "      <th>2</th>\n",
       "      <td>1/1/19</td>\n",
       "      <td>NON-VIOLENT</td>\n",
       "      <td>18</td>\n",
       "      <td>7.61</td>\n",
       "      <td>31</td>\n",
       "      <td>1.0</td>\n",
       "      <td>0.0</td>\n",
       "    </tr>\n",
       "    <tr>\n",
       "      <th>3</th>\n",
       "      <td>1/1/19</td>\n",
       "      <td>NON-VIOLENT</td>\n",
       "      <td>69</td>\n",
       "      <td>7.61</td>\n",
       "      <td>31</td>\n",
       "      <td>1.0</td>\n",
       "      <td>0.0</td>\n",
       "    </tr>\n",
       "    <tr>\n",
       "      <th>4</th>\n",
       "      <td>1/1/19</td>\n",
       "      <td>NON-VIOLENT</td>\n",
       "      <td>54</td>\n",
       "      <td>7.61</td>\n",
       "      <td>31</td>\n",
       "      <td>1.0</td>\n",
       "      <td>0.0</td>\n",
       "    </tr>\n",
       "  </tbody>\n",
       "</table>\n",
       "</div>"
      ],
      "text/plain": [
       "     Date Violence_Status  Community_Area  Average_Wind_Speed  \\\n",
       "0  1/1/19         VIOLENT              44                7.61   \n",
       "1  1/1/19     NON-VIOLENT              55                7.61   \n",
       "2  1/1/19     NON-VIOLENT              18                7.61   \n",
       "3  1/1/19     NON-VIOLENT              69                7.61   \n",
       "4  1/1/19     NON-VIOLENT              54                7.61   \n",
       "\n",
       "   Average_Temperature  Fog_Ice_Freezing_Fog  Smoke_or_Haze  \n",
       "0                   31                   1.0            0.0  \n",
       "1                   31                   1.0            0.0  \n",
       "2                   31                   1.0            0.0  \n",
       "3                   31                   1.0            0.0  \n",
       "4                   31                   1.0            0.0  "
      ]
     },
     "execution_count": 3,
     "metadata": {},
     "output_type": "execute_result"
    }
   ],
   "source": [
    "# Set up dataframe with only the features we are pridicting\n",
    "df = df[['Date', 'Violence_Status', 'Community_Area', 'Average_Wind_Speed', 'Average_Temperature', 'Fog_Ice_Freezing_Fog',\n",
    "         'Smoke_or_Haze']]\n",
    "df = df.replace(np.nan,0)\n",
    "df.head()"
   ]
  },
  {
   "cell_type": "code",
   "execution_count": 4,
   "id": "a734290c",
   "metadata": {},
   "outputs": [
    {
     "name": "stdout",
     "output_type": "stream",
     "text": [
      "<class 'pandas.core.frame.DataFrame'>\n",
      "RangeIndex: 668177 entries, 0 to 668176\n",
      "Data columns (total 7 columns):\n",
      " #   Column                Non-Null Count   Dtype  \n",
      "---  ------                --------------   -----  \n",
      " 0   Date                  668177 non-null  object \n",
      " 1   Violence_Status       668177 non-null  object \n",
      " 2   Community_Area        668177 non-null  int64  \n",
      " 3   Average_Wind_Speed    668177 non-null  float64\n",
      " 4   Average_Temperature   668177 non-null  int64  \n",
      " 5   Fog_Ice_Freezing_Fog  668177 non-null  float64\n",
      " 6   Smoke_or_Haze         668177 non-null  float64\n",
      "dtypes: float64(3), int64(2), object(2)\n",
      "memory usage: 35.7+ MB\n",
      "None\n"
     ]
    }
   ],
   "source": [
    "# correct column format\n",
    "\n",
    "# df['DailyWeather'] = df['DailyWeather'].astype(str)\n",
    "print(df.info())"
   ]
  },
  {
   "cell_type": "code",
   "execution_count": 5,
   "id": "ba3d8289",
   "metadata": {},
   "outputs": [],
   "source": [
    "# correct date format\n",
    "\n",
    "df['Date'] = pd.to_datetime(df['Date']).dt.date"
   ]
  },
  {
   "cell_type": "code",
   "execution_count": 6,
   "id": "f05cb5ba",
   "metadata": {},
   "outputs": [],
   "source": [
    "# correct date format\n",
    "\n",
    "df['Date'] =  pd.to_datetime(df['Date'], format=\"%Y-%m-%d\")"
   ]
  },
  {
   "cell_type": "code",
   "execution_count": 7,
   "id": "dbe5a1d8",
   "metadata": {},
   "outputs": [],
   "source": [
    "# correct date format\n",
    "\n",
    "df['Day of year'] =  pd.to_datetime(df['Date'], format=\"%m-%d\")"
   ]
  },
  {
   "cell_type": "code",
   "execution_count": 8,
   "id": "5e964a40",
   "metadata": {},
   "outputs": [
    {
     "data": {
      "text/html": [
       "<div>\n",
       "<style scoped>\n",
       "    .dataframe tbody tr th:only-of-type {\n",
       "        vertical-align: middle;\n",
       "    }\n",
       "\n",
       "    .dataframe tbody tr th {\n",
       "        vertical-align: top;\n",
       "    }\n",
       "\n",
       "    .dataframe thead th {\n",
       "        text-align: right;\n",
       "    }\n",
       "</style>\n",
       "<table border=\"1\" class=\"dataframe\">\n",
       "  <thead>\n",
       "    <tr style=\"text-align: right;\">\n",
       "      <th></th>\n",
       "      <th>Date</th>\n",
       "      <th>Violence_Status</th>\n",
       "      <th>Community_Area</th>\n",
       "      <th>Average_Wind_Speed</th>\n",
       "      <th>Average_Temperature</th>\n",
       "      <th>Fog_Ice_Freezing_Fog</th>\n",
       "      <th>Smoke_or_Haze</th>\n",
       "      <th>Day of year</th>\n",
       "    </tr>\n",
       "  </thead>\n",
       "  <tbody>\n",
       "    <tr>\n",
       "      <th>0</th>\n",
       "      <td>2019-01-01</td>\n",
       "      <td>VIOLENT</td>\n",
       "      <td>44</td>\n",
       "      <td>7.61</td>\n",
       "      <td>31</td>\n",
       "      <td>1.0</td>\n",
       "      <td>0.0</td>\n",
       "      <td>2019-01-01</td>\n",
       "    </tr>\n",
       "    <tr>\n",
       "      <th>1</th>\n",
       "      <td>2019-01-01</td>\n",
       "      <td>NON-VIOLENT</td>\n",
       "      <td>55</td>\n",
       "      <td>7.61</td>\n",
       "      <td>31</td>\n",
       "      <td>1.0</td>\n",
       "      <td>0.0</td>\n",
       "      <td>2019-01-01</td>\n",
       "    </tr>\n",
       "    <tr>\n",
       "      <th>2</th>\n",
       "      <td>2019-01-01</td>\n",
       "      <td>NON-VIOLENT</td>\n",
       "      <td>18</td>\n",
       "      <td>7.61</td>\n",
       "      <td>31</td>\n",
       "      <td>1.0</td>\n",
       "      <td>0.0</td>\n",
       "      <td>2019-01-01</td>\n",
       "    </tr>\n",
       "    <tr>\n",
       "      <th>3</th>\n",
       "      <td>2019-01-01</td>\n",
       "      <td>NON-VIOLENT</td>\n",
       "      <td>69</td>\n",
       "      <td>7.61</td>\n",
       "      <td>31</td>\n",
       "      <td>1.0</td>\n",
       "      <td>0.0</td>\n",
       "      <td>2019-01-01</td>\n",
       "    </tr>\n",
       "    <tr>\n",
       "      <th>4</th>\n",
       "      <td>2019-01-01</td>\n",
       "      <td>NON-VIOLENT</td>\n",
       "      <td>54</td>\n",
       "      <td>7.61</td>\n",
       "      <td>31</td>\n",
       "      <td>1.0</td>\n",
       "      <td>0.0</td>\n",
       "      <td>2019-01-01</td>\n",
       "    </tr>\n",
       "  </tbody>\n",
       "</table>\n",
       "</div>"
      ],
      "text/plain": [
       "        Date Violence_Status  Community_Area  Average_Wind_Speed  \\\n",
       "0 2019-01-01         VIOLENT              44                7.61   \n",
       "1 2019-01-01     NON-VIOLENT              55                7.61   \n",
       "2 2019-01-01     NON-VIOLENT              18                7.61   \n",
       "3 2019-01-01     NON-VIOLENT              69                7.61   \n",
       "4 2019-01-01     NON-VIOLENT              54                7.61   \n",
       "\n",
       "   Average_Temperature  Fog_Ice_Freezing_Fog  Smoke_or_Haze Day of year  \n",
       "0                   31                   1.0            0.0  2019-01-01  \n",
       "1                   31                   1.0            0.0  2019-01-01  \n",
       "2                   31                   1.0            0.0  2019-01-01  \n",
       "3                   31                   1.0            0.0  2019-01-01  \n",
       "4                   31                   1.0            0.0  2019-01-01  "
      ]
     },
     "execution_count": 8,
     "metadata": {},
     "output_type": "execute_result"
    }
   ],
   "source": [
    "df.head()"
   ]
  },
  {
   "cell_type": "code",
   "execution_count": 9,
   "id": "21f22828",
   "metadata": {},
   "outputs": [],
   "source": [
    "def wrangle(X):\n",
    "    X = X.copy()\n",
    "\n",
    "    # Create 'year' feature\n",
    "    X['Year'] = X['Date'].dt.year\n",
    "\n",
    "    # Create 'month' feature\n",
    "    X['Month'] = X['Date'].dt.month\n",
    "\n",
    "    # Create 'day' feature\n",
    "    X['Day'] = X['Date'].dt.day\n",
    "\n",
    "    # Create 'day of week' feature\n",
    "    X['Weekday'] = X['Date'].dt.weekday\n",
    "    return X\n",
    "df=wrangle(df)"
   ]
  },
  {
   "cell_type": "code",
   "execution_count": null,
   "id": "5490092b",
   "metadata": {},
   "outputs": [],
   "source": []
  },
  {
   "cell_type": "raw",
   "id": "09336b9c",
   "metadata": {},
   "source": []
  },
  {
   "cell_type": "code",
   "execution_count": 10,
   "id": "15447baf",
   "metadata": {},
   "outputs": [
    {
     "data": {
      "text/html": [
       "<div>\n",
       "<style scoped>\n",
       "    .dataframe tbody tr th:only-of-type {\n",
       "        vertical-align: middle;\n",
       "    }\n",
       "\n",
       "    .dataframe tbody tr th {\n",
       "        vertical-align: top;\n",
       "    }\n",
       "\n",
       "    .dataframe thead th {\n",
       "        text-align: right;\n",
       "    }\n",
       "</style>\n",
       "<table border=\"1\" class=\"dataframe\">\n",
       "  <thead>\n",
       "    <tr style=\"text-align: right;\">\n",
       "      <th></th>\n",
       "      <th>Date</th>\n",
       "      <th>Crimes_per_day</th>\n",
       "    </tr>\n",
       "  </thead>\n",
       "  <tbody>\n",
       "    <tr>\n",
       "      <th>0</th>\n",
       "      <td>2019-01-01</td>\n",
       "      <td>1005</td>\n",
       "    </tr>\n",
       "    <tr>\n",
       "      <th>1</th>\n",
       "      <td>2019-01-02</td>\n",
       "      <td>645</td>\n",
       "    </tr>\n",
       "    <tr>\n",
       "      <th>2</th>\n",
       "      <td>2019-01-03</td>\n",
       "      <td>748</td>\n",
       "    </tr>\n",
       "    <tr>\n",
       "      <th>3</th>\n",
       "      <td>2019-01-04</td>\n",
       "      <td>759</td>\n",
       "    </tr>\n",
       "    <tr>\n",
       "      <th>4</th>\n",
       "      <td>2019-01-05</td>\n",
       "      <td>789</td>\n",
       "    </tr>\n",
       "    <tr>\n",
       "      <th>...</th>\n",
       "      <td>...</td>\n",
       "      <td>...</td>\n",
       "    </tr>\n",
       "    <tr>\n",
       "      <th>1091</th>\n",
       "      <td>2021-12-27</td>\n",
       "      <td>446</td>\n",
       "    </tr>\n",
       "    <tr>\n",
       "      <th>1092</th>\n",
       "      <td>2021-12-28</td>\n",
       "      <td>403</td>\n",
       "    </tr>\n",
       "    <tr>\n",
       "      <th>1093</th>\n",
       "      <td>2021-12-29</td>\n",
       "      <td>451</td>\n",
       "    </tr>\n",
       "    <tr>\n",
       "      <th>1094</th>\n",
       "      <td>2021-12-30</td>\n",
       "      <td>482</td>\n",
       "    </tr>\n",
       "    <tr>\n",
       "      <th>1095</th>\n",
       "      <td>2021-12-31</td>\n",
       "      <td>523</td>\n",
       "    </tr>\n",
       "  </tbody>\n",
       "</table>\n",
       "<p>1096 rows × 2 columns</p>\n",
       "</div>"
      ],
      "text/plain": [
       "           Date  Crimes_per_day\n",
       "0    2019-01-01            1005\n",
       "1    2019-01-02             645\n",
       "2    2019-01-03             748\n",
       "3    2019-01-04             759\n",
       "4    2019-01-05             789\n",
       "...         ...             ...\n",
       "1091 2021-12-27             446\n",
       "1092 2021-12-28             403\n",
       "1093 2021-12-29             451\n",
       "1094 2021-12-30             482\n",
       "1095 2021-12-31             523\n",
       "\n",
       "[1096 rows x 2 columns]"
      ]
     },
     "execution_count": 10,
     "metadata": {},
     "output_type": "execute_result"
    }
   ],
   "source": [
    "crimes_per_day=df.groupby([\"Date\"]).size().reset_index(name=\"Crimes_per_day\")\n",
    "crimes_per_day"
   ]
  },
  {
   "cell_type": "code",
   "execution_count": 11,
   "id": "eae3e343",
   "metadata": {},
   "outputs": [],
   "source": [
    "df = crimes_per_day.merge(df,on='Date')"
   ]
  },
  {
   "cell_type": "code",
   "execution_count": 12,
   "id": "e6abe67b",
   "metadata": {},
   "outputs": [
    {
     "data": {
      "text/html": [
       "<div>\n",
       "<style scoped>\n",
       "    .dataframe tbody tr th:only-of-type {\n",
       "        vertical-align: middle;\n",
       "    }\n",
       "\n",
       "    .dataframe tbody tr th {\n",
       "        vertical-align: top;\n",
       "    }\n",
       "\n",
       "    .dataframe thead th {\n",
       "        text-align: right;\n",
       "    }\n",
       "</style>\n",
       "<table border=\"1\" class=\"dataframe\">\n",
       "  <thead>\n",
       "    <tr style=\"text-align: right;\">\n",
       "      <th></th>\n",
       "      <th>Crimes_per_day</th>\n",
       "      <th>Community_Area</th>\n",
       "      <th>Average_Temperature</th>\n",
       "      <th>Year</th>\n",
       "      <th>Month</th>\n",
       "      <th>Day</th>\n",
       "      <th>Weekday</th>\n",
       "    </tr>\n",
       "  </thead>\n",
       "  <tbody>\n",
       "    <tr>\n",
       "      <th>0</th>\n",
       "      <td>1005</td>\n",
       "      <td>44</td>\n",
       "      <td>31</td>\n",
       "      <td>2019</td>\n",
       "      <td>1</td>\n",
       "      <td>1</td>\n",
       "      <td>1</td>\n",
       "    </tr>\n",
       "    <tr>\n",
       "      <th>1</th>\n",
       "      <td>1005</td>\n",
       "      <td>55</td>\n",
       "      <td>31</td>\n",
       "      <td>2019</td>\n",
       "      <td>1</td>\n",
       "      <td>1</td>\n",
       "      <td>1</td>\n",
       "    </tr>\n",
       "    <tr>\n",
       "      <th>2</th>\n",
       "      <td>1005</td>\n",
       "      <td>18</td>\n",
       "      <td>31</td>\n",
       "      <td>2019</td>\n",
       "      <td>1</td>\n",
       "      <td>1</td>\n",
       "      <td>1</td>\n",
       "    </tr>\n",
       "    <tr>\n",
       "      <th>3</th>\n",
       "      <td>1005</td>\n",
       "      <td>69</td>\n",
       "      <td>31</td>\n",
       "      <td>2019</td>\n",
       "      <td>1</td>\n",
       "      <td>1</td>\n",
       "      <td>1</td>\n",
       "    </tr>\n",
       "    <tr>\n",
       "      <th>4</th>\n",
       "      <td>1005</td>\n",
       "      <td>54</td>\n",
       "      <td>31</td>\n",
       "      <td>2019</td>\n",
       "      <td>1</td>\n",
       "      <td>1</td>\n",
       "      <td>1</td>\n",
       "    </tr>\n",
       "  </tbody>\n",
       "</table>\n",
       "</div>"
      ],
      "text/plain": [
       "   Crimes_per_day  Community_Area  Average_Temperature  Year  Month  Day  \\\n",
       "0            1005              44                   31  2019      1    1   \n",
       "1            1005              55                   31  2019      1    1   \n",
       "2            1005              18                   31  2019      1    1   \n",
       "3            1005              69                   31  2019      1    1   \n",
       "4            1005              54                   31  2019      1    1   \n",
       "\n",
       "   Weekday  \n",
       "0        1  \n",
       "1        1  \n",
       "2        1  \n",
       "3        1  \n",
       "4        1  "
      ]
     },
     "execution_count": 12,
     "metadata": {},
     "output_type": "execute_result"
    }
   ],
   "source": [
    "df = df[['Crimes_per_day', 'Community_Area', 'Average_Temperature',\n",
    "         'Year', 'Month', 'Day', 'Weekday']]\n",
    "df = df.replace(np.nan,0)\n",
    "df.head()"
   ]
  },
  {
   "cell_type": "code",
   "execution_count": 13,
   "id": "f835b3b3",
   "metadata": {},
   "outputs": [
    {
     "data": {
      "text/plain": [
       "Crimes_per_day         int64\n",
       "Community_Area         int64\n",
       "Average_Temperature    int64\n",
       "Year                   int64\n",
       "Month                  int64\n",
       "Day                    int64\n",
       "Weekday                int64\n",
       "dtype: object"
      ]
     },
     "execution_count": 13,
     "metadata": {},
     "output_type": "execute_result"
    }
   ],
   "source": [
    "df.dtypes"
   ]
  },
  {
   "cell_type": "code",
   "execution_count": 19,
   "id": "743ebdad",
   "metadata": {},
   "outputs": [],
   "source": [
    "features = df.columns.tolist()"
   ]
  },
  {
   "cell_type": "code",
   "execution_count": 38,
   "id": "97067124",
   "metadata": {},
   "outputs": [],
   "source": [
    "features.remove('Crimes_per_day')"
   ]
  },
  {
   "cell_type": "code",
   "execution_count": 40,
   "id": "f6c58927",
   "metadata": {},
   "outputs": [],
   "source": [
    "features.remove('Year')"
   ]
  },
  {
   "cell_type": "code",
   "execution_count": 41,
   "id": "3d4a1655",
   "metadata": {},
   "outputs": [
    {
     "data": {
      "text/plain": [
       "['Community_Area', 'Average_Temperature', 'Month', 'Day', 'Weekday']"
      ]
     },
     "execution_count": 41,
     "metadata": {},
     "output_type": "execute_result"
    }
   ],
   "source": [
    "features"
   ]
  },
  {
   "cell_type": "code",
   "execution_count": 98,
   "id": "39210303",
   "metadata": {},
   "outputs": [
    {
     "data": {
      "text/plain": [
       "(501132, 7)"
      ]
     },
     "execution_count": 98,
     "metadata": {},
     "output_type": "execute_result"
    }
   ],
   "source": [
    "# # split data for training and testing\n",
    "# X = df\n",
    "# X = pd.get_dummies(X)\n",
    "\n",
    "# y = df\n",
    "# y = pd.get_dummies(Y)\n",
    "# #Split the data into training and testing\n",
    "# X_train,X_test,y_train,y_test = train_test_split(X,y, random_state=42)\n",
    "\n",
    "# X_train.shape"
   ]
  },
  {
   "cell_type": "code",
   "execution_count": 42,
   "id": "3428683f",
   "metadata": {},
   "outputs": [
    {
     "data": {
      "text/plain": [
       "((258152, 7), (410025, 7))"
      ]
     },
     "execution_count": 42,
     "metadata": {},
     "output_type": "execute_result"
    }
   ],
   "source": [
    "train = df[df['Year'] < 2020]\n",
    "test = df[df['Year'] >= 2020]\n",
    "train.shape, test.shape"
   ]
  },
  {
   "cell_type": "code",
   "execution_count": 43,
   "id": "fcbe825c",
   "metadata": {},
   "outputs": [],
   "source": [
    "\n",
    "#Set target\n",
    "\n",
    "target='Crimes_per_day'\n",
    "\n",
    "#create dataframes for model (w/ features)\n",
    "\n",
    "X_train = train[features]\n",
    "y_train = train[target]\n",
    "X_test = test[features]\n",
    "y_test = test[target]"
   ]
  },
  {
   "cell_type": "code",
   "execution_count": 100,
   "id": "078790e1",
   "metadata": {},
   "outputs": [],
   "source": []
  },
  {
   "cell_type": "code",
   "execution_count": 101,
   "id": "6951294f",
   "metadata": {},
   "outputs": [],
   "source": []
  },
  {
   "cell_type": "code",
   "execution_count": 44,
   "id": "7d956ea1",
   "metadata": {},
   "outputs": [
    {
     "data": {
      "text/html": [
       "<div>\n",
       "<style scoped>\n",
       "    .dataframe tbody tr th:only-of-type {\n",
       "        vertical-align: middle;\n",
       "    }\n",
       "\n",
       "    .dataframe tbody tr th {\n",
       "        vertical-align: top;\n",
       "    }\n",
       "\n",
       "    .dataframe thead th {\n",
       "        text-align: right;\n",
       "    }\n",
       "</style>\n",
       "<table border=\"1\" class=\"dataframe\">\n",
       "  <thead>\n",
       "    <tr style=\"text-align: right;\">\n",
       "      <th></th>\n",
       "      <th>Community_Area</th>\n",
       "      <th>Average_Temperature</th>\n",
       "      <th>Month</th>\n",
       "      <th>Day</th>\n",
       "      <th>Weekday</th>\n",
       "    </tr>\n",
       "  </thead>\n",
       "  <tbody>\n",
       "    <tr>\n",
       "      <th>0</th>\n",
       "      <td>44</td>\n",
       "      <td>31</td>\n",
       "      <td>1</td>\n",
       "      <td>1</td>\n",
       "      <td>1</td>\n",
       "    </tr>\n",
       "    <tr>\n",
       "      <th>1</th>\n",
       "      <td>55</td>\n",
       "      <td>31</td>\n",
       "      <td>1</td>\n",
       "      <td>1</td>\n",
       "      <td>1</td>\n",
       "    </tr>\n",
       "    <tr>\n",
       "      <th>2</th>\n",
       "      <td>18</td>\n",
       "      <td>31</td>\n",
       "      <td>1</td>\n",
       "      <td>1</td>\n",
       "      <td>1</td>\n",
       "    </tr>\n",
       "    <tr>\n",
       "      <th>3</th>\n",
       "      <td>69</td>\n",
       "      <td>31</td>\n",
       "      <td>1</td>\n",
       "      <td>1</td>\n",
       "      <td>1</td>\n",
       "    </tr>\n",
       "    <tr>\n",
       "      <th>4</th>\n",
       "      <td>54</td>\n",
       "      <td>31</td>\n",
       "      <td>1</td>\n",
       "      <td>1</td>\n",
       "      <td>1</td>\n",
       "    </tr>\n",
       "    <tr>\n",
       "      <th>...</th>\n",
       "      <td>...</td>\n",
       "      <td>...</td>\n",
       "      <td>...</td>\n",
       "      <td>...</td>\n",
       "      <td>...</td>\n",
       "    </tr>\n",
       "    <tr>\n",
       "      <th>258147</th>\n",
       "      <td>66</td>\n",
       "      <td>26</td>\n",
       "      <td>12</td>\n",
       "      <td>31</td>\n",
       "      <td>1</td>\n",
       "    </tr>\n",
       "    <tr>\n",
       "      <th>258148</th>\n",
       "      <td>51</td>\n",
       "      <td>26</td>\n",
       "      <td>12</td>\n",
       "      <td>31</td>\n",
       "      <td>1</td>\n",
       "    </tr>\n",
       "    <tr>\n",
       "      <th>258149</th>\n",
       "      <td>34</td>\n",
       "      <td>26</td>\n",
       "      <td>12</td>\n",
       "      <td>31</td>\n",
       "      <td>1</td>\n",
       "    </tr>\n",
       "    <tr>\n",
       "      <th>258150</th>\n",
       "      <td>26</td>\n",
       "      <td>26</td>\n",
       "      <td>12</td>\n",
       "      <td>31</td>\n",
       "      <td>1</td>\n",
       "    </tr>\n",
       "    <tr>\n",
       "      <th>258151</th>\n",
       "      <td>61</td>\n",
       "      <td>26</td>\n",
       "      <td>12</td>\n",
       "      <td>31</td>\n",
       "      <td>1</td>\n",
       "    </tr>\n",
       "  </tbody>\n",
       "</table>\n",
       "<p>258152 rows × 5 columns</p>\n",
       "</div>"
      ],
      "text/plain": [
       "        Community_Area  Average_Temperature  Month  Day  Weekday\n",
       "0                   44                   31      1    1        1\n",
       "1                   55                   31      1    1        1\n",
       "2                   18                   31      1    1        1\n",
       "3                   69                   31      1    1        1\n",
       "4                   54                   31      1    1        1\n",
       "...                ...                  ...    ...  ...      ...\n",
       "258147              66                   26     12   31        1\n",
       "258148              51                   26     12   31        1\n",
       "258149              34                   26     12   31        1\n",
       "258150              26                   26     12   31        1\n",
       "258151              61                   26     12   31        1\n",
       "\n",
       "[258152 rows x 5 columns]"
      ]
     },
     "execution_count": 44,
     "metadata": {},
     "output_type": "execute_result"
    }
   ],
   "source": [
    "X_train"
   ]
  },
  {
   "cell_type": "code",
   "execution_count": 45,
   "id": "6d69d141",
   "metadata": {},
   "outputs": [
    {
     "data": {
      "text/plain": [
       "258152    865\n",
       "258153    865\n",
       "258154    865\n",
       "258155    865\n",
       "258156    865\n",
       "         ... \n",
       "668172    523\n",
       "668173    523\n",
       "668174    523\n",
       "668175    523\n",
       "668176    523\n",
       "Name: Crimes_per_day, Length: 410025, dtype: int64"
      ]
     },
     "execution_count": 45,
     "metadata": {},
     "output_type": "execute_result"
    }
   ],
   "source": [
    "y_test"
   ]
  },
  {
   "cell_type": "code",
   "execution_count": 46,
   "id": "4beef626",
   "metadata": {},
   "outputs": [
    {
     "data": {
      "text/plain": [
       "['Community_Area', 'Average_Temperature', 'Month', 'Day', 'Weekday']"
      ]
     },
     "execution_count": 46,
     "metadata": {},
     "output_type": "execute_result"
    }
   ],
   "source": [
    "features"
   ]
  },
  {
   "cell_type": "code",
   "execution_count": 47,
   "id": "10f21391",
   "metadata": {},
   "outputs": [
    {
     "name": "stdout",
     "output_type": "stream",
     "text": [
      "If we just guessed every community had 630.9038338643802, crimes per day\n",
      "we would be off by 89.26093000317402 crimes on average.\n"
     ]
    }
   ],
   "source": [
    "guess = df['Crimes_per_day'].mean()\n",
    "errors = guess - df['Crimes_per_day']\n",
    "mean_absolute_error = errors.abs().mean()\n",
    "print(f'If we just guessed every community had {guess:}, crimes per day')\n",
    "print(f'we would be off by {mean_absolute_error:} crimes on average.')"
   ]
  },
  {
   "cell_type": "code",
   "execution_count": 48,
   "id": "1295e45d",
   "metadata": {},
   "outputs": [
    {
     "name": "stdout",
     "output_type": "stream",
     "text": [
      "Accuracy: 87.52 %.\n"
     ]
    }
   ],
   "source": [
    "# Calculate mean absolute percentage error (MAPE)\n",
    "mape = 100 * (errors / y_test)\n",
    "# Calculate and display accuracy\n",
    "accuracy = 100 - np.mean(mape)\n",
    "print('Accuracy:', round(accuracy, 2), '%.')"
   ]
  },
  {
   "cell_type": "code",
   "execution_count": 49,
   "id": "39838a46",
   "metadata": {},
   "outputs": [],
   "source": [
    "X = X_train\n",
    "y = y_train"
   ]
  },
  {
   "cell_type": "code",
   "execution_count": 50,
   "id": "158fac5d",
   "metadata": {},
   "outputs": [],
   "source": [
    "from sklearn.pipeline import make_pipeline\n",
    "from sklearn import datasets, svm\n",
    "from sklearn.svm import SVC\n",
    "from sklearn.pipeline import Pipeline"
   ]
  },
  {
   "cell_type": "code",
   "execution_count": 51,
   "id": "43dbc691",
   "metadata": {},
   "outputs": [
    {
     "data": {
      "text/plain": [
       "Pipeline(steps=[('randomforestregressor',\n",
       "                 RandomForestRegressor(max_depth=15, n_jobs=-1,\n",
       "                                       random_state=42))])"
      ]
     },
     "execution_count": 51,
     "metadata": {},
     "output_type": "execute_result"
    }
   ],
   "source": [
    "# create random forest regressor pipeline\n",
    "\n",
    "\n",
    "pipeline = make_pipeline(\n",
    "    RandomForestRegressor(n_estimators = 100,\n",
    "                          max_depth = 15,\n",
    "                          random_state = 42, n_jobs=-1)\n",
    ")\n",
    "pipeline.fit(X,y)\n",
    "\n"
   ]
  },
  {
   "cell_type": "code",
   "execution_count": 52,
   "id": "f27be845",
   "metadata": {},
   "outputs": [],
   "source": [
    "# create predict function for testing and deployment\n",
    "\n",
    "def predict (Community_Area,\n",
    "             Average_Temperature,\n",
    "             Month,\n",
    "             Day,\n",
    "             Weekday):\n",
    "    df9=pd.DataFrame(\n",
    "        columns = ['Community_Area',\n",
    "                   'Average_Temperature',\n",
    "                   'Month',\n",
    "                   'Day',\n",
    "                   'Weekday'],\n",
    "                    data =[[Community_Area,\n",
    "                            Average_Temperature,\n",
    "                            Month,\n",
    "                            Day,\n",
    "                            Weekday]]\n",
    "    )\n",
    "    df9pred = pipeline.predict(df9)[0]\n",
    "    return f'{df9pred:.0f}'"
   ]
  },
  {
   "cell_type": "code",
   "execution_count": 53,
   "id": "23b97fad",
   "metadata": {},
   "outputs": [
    {
     "name": "stdout",
     "output_type": "stream",
     "text": [
      "Mean Absolute Error: 0.26738 crimes.\n"
     ]
    }
   ],
   "source": [
    "# Use the forest's predict method on the test data\n",
    "predictions = pipeline.predict(X)\n",
    "# Calculate the absolute errors\n",
    "errors = abs(predictions - y)\n",
    "# Print out the mean absolute error (mae)\n",
    "print('Mean Absolute Error:', round(np.mean(errors), 5), 'crimes.')"
   ]
  },
  {
   "cell_type": "code",
   "execution_count": 54,
   "id": "26c7b6fe",
   "metadata": {},
   "outputs": [
    {
     "name": "stdout",
     "output_type": "stream",
     "text": [
      "Accuracy: 99.96215 %.\n"
     ]
    }
   ],
   "source": [
    "# Calculate mean absolute percentage error (MAPE)\n",
    "mape = 100 * (errors / y)\n",
    "# Calculate and display accuracy\n",
    "accuracy = 100 - np.mean(mape)\n",
    "print('Accuracy:', round(accuracy, 5), '%.')"
   ]
  },
  {
   "cell_type": "code",
   "execution_count": 55,
   "id": "54cf0980",
   "metadata": {},
   "outputs": [
    {
     "data": {
      "text/plain": [
       "count    258152.000000\n",
       "mean          0.267384\n",
       "std           1.142198\n",
       "min           0.000000\n",
       "25%           0.000000\n",
       "50%           0.000000\n",
       "75%           0.000000\n",
       "max          10.000112\n",
       "Name: Crimes_per_day, dtype: float64"
      ]
     },
     "execution_count": 55,
     "metadata": {},
     "output_type": "execute_result"
    }
   ],
   "source": [
    "errors.describe()"
   ]
  },
  {
   "cell_type": "code",
   "execution_count": 56,
   "id": "148fec96",
   "metadata": {},
   "outputs": [
    {
     "data": {
      "text/plain": [
       "'674'"
      ]
     },
     "execution_count": 56,
     "metadata": {},
     "output_type": "execute_result"
    }
   ],
   "source": [
    "# test model for deployment\n",
    "\n",
    "predict (1,14,3,0,0)"
   ]
  },
  {
   "cell_type": "code",
   "execution_count": 57,
   "id": "6a384fb3",
   "metadata": {},
   "outputs": [
    {
     "data": {
      "text/plain": [
       "['feature_model.joblib']"
      ]
     },
     "execution_count": 57,
     "metadata": {},
     "output_type": "execute_result"
    }
   ],
   "source": [
    "# export model for deployment\n",
    "\n",
    "from joblib import dump\n",
    "dump(pipeline, 'feature_model.joblib', compress=True)"
   ]
  },
  {
   "cell_type": "code",
   "execution_count": null,
   "id": "ad2c3983",
   "metadata": {},
   "outputs": [],
   "source": []
  },
  {
   "cell_type": "code",
   "execution_count": null,
   "id": "abe33577",
   "metadata": {},
   "outputs": [],
   "source": []
  },
  {
   "cell_type": "code",
   "execution_count": null,
   "id": "06802bbd",
   "metadata": {},
   "outputs": [],
   "source": []
  },
  {
   "cell_type": "code",
   "execution_count": 121,
   "id": "5b030c29",
   "metadata": {},
   "outputs": [],
   "source": [
    "# # correct column format\n",
    "\n",
    "# # df['DailyWeather'] = df['DailyWeather'].astype(str)\n",
    "# print(df.info())"
   ]
  },
  {
   "cell_type": "code",
   "execution_count": null,
   "id": "9c970d72",
   "metadata": {},
   "outputs": [],
   "source": []
  },
  {
   "cell_type": "code",
   "execution_count": 122,
   "id": "d2b87335",
   "metadata": {},
   "outputs": [],
   "source": [
    "# # Create our features\n",
    "# X = df.drop(columns='Violence_Status')\n",
    "# X = pd.get_dummies(X)\n",
    "# # Create our target\n",
    "# y = df2['Violence_Status']"
   ]
  },
  {
   "cell_type": "code",
   "execution_count": 123,
   "id": "7e92724f",
   "metadata": {},
   "outputs": [],
   "source": [
    "# print(X.shape)\n",
    "# print(y.shape)\n",
    "# X.head()"
   ]
  },
  {
   "cell_type": "code",
   "execution_count": 124,
   "id": "92fec2b1",
   "metadata": {},
   "outputs": [],
   "source": [
    "# #Split the data into training and testing\n",
    "# X_train,X_test,y_train,y_test = train_test_split(X,y, random_state=42)\n",
    "\n",
    "# X_train.shape\n"
   ]
  },
  {
   "cell_type": "code",
   "execution_count": 125,
   "id": "88103af3",
   "metadata": {},
   "outputs": [],
   "source": [
    "# # Creating StandardScaler instance\n",
    "# scaler = StandardScaler()\n",
    "# # Fitting Standard Scaller\n",
    "# X_scaler = scaler.fit(X_train)\n",
    "# # Scaling data\n",
    "# X_train_scaled = scaler.transform(X_train)\n",
    "# X_test_scaled = scaler.transform(X_test)"
   ]
  },
  {
   "cell_type": "code",
   "execution_count": 126,
   "id": "5604b61b",
   "metadata": {},
   "outputs": [],
   "source": [
    "# # Create a random forest classifier.\n",
    "# rf_model = RandomForestClassifier(n_estimators=128, random_state=78) "
   ]
  },
  {
   "cell_type": "code",
   "execution_count": 127,
   "id": "9d335498",
   "metadata": {},
   "outputs": [],
   "source": [
    "# # Fitting the model\n",
    "# rf_model = rf_model.fit(X_train_scaled, y_train)"
   ]
  },
  {
   "cell_type": "code",
   "execution_count": 128,
   "id": "51724305",
   "metadata": {},
   "outputs": [],
   "source": [
    "# # Making predictions using the testing data.\n",
    "# predictions = rf_model.predict(X_test_scaled)"
   ]
  },
  {
   "cell_type": "code",
   "execution_count": 129,
   "id": "b71d49eb",
   "metadata": {},
   "outputs": [],
   "source": [
    "# predictions"
   ]
  },
  {
   "cell_type": "code",
   "execution_count": 130,
   "id": "17b65d15",
   "metadata": {},
   "outputs": [],
   "source": [
    "# # Calculating the confusion matrix.\n",
    "# cm = confusion_matrix(y_test, predictions)\n",
    "\n",
    "# # Create a DataFrame from the confusion matrix.\n",
    "# cm_df = pd.DataFrame(\n",
    "#     cm, index=[\"Actual Non-voilent\", \"Actual Violent\"], columns=[\"Predicted Non-violent\", \"Predicted Violent\"])\n",
    "\n",
    "# cm_df\n",
    "\n",
    "# # Calculating the accuracy score\n",
    "# acc_score = accuracy_score(y_test, predictions)"
   ]
  },
  {
   "cell_type": "code",
   "execution_count": 131,
   "id": "9d9ca352",
   "metadata": {},
   "outputs": [],
   "source": [
    "# # Displaying results\n",
    "# print(\"Confusion Matrix\")\n",
    "# display(cm_df)\n",
    "# print(f\"Accuracy Score : {acc_score}\")\n",
    "# print(\"Classification Report\")\n",
    "# print(classification_report(y_test, predictions))"
   ]
  },
  {
   "cell_type": "code",
   "execution_count": 132,
   "id": "8496b6ac",
   "metadata": {},
   "outputs": [],
   "source": [
    "# # Displaying the feature importances\n",
    "# feature_importances = rf_model.feature_importances_\n",
    "# %matplotlib inline\n",
    "# from matplotlib import pyplot as plt\n",
    "# features = sorted(zip(X.columns, rf_model.feature_importances_), key = lambda x: x[1])\n",
    "# cols = [f[0] for f in features]\n",
    "# width = [f[1] for f in features]\n",
    "\n",
    "# fig, ax = plt.subplots()\n",
    "\n",
    "# fig.set_size_inches(10,5)\n",
    "# plt.margins(y=0.001)\n",
    "\n",
    "# ax.barh(y=cols, width=width)\n",
    "\n",
    "# plt.show()"
   ]
  },
  {
   "cell_type": "code",
   "execution_count": 133,
   "id": "a73e6dbf",
   "metadata": {},
   "outputs": [],
   "source": [
    "# # Test prediction \n",
    "# rf_model.predict([[1, 0, 80, 0, 0, 4, 21, 3, 0]])"
   ]
  },
  {
   "cell_type": "code",
   "execution_count": 134,
   "id": "9caa776d",
   "metadata": {},
   "outputs": [],
   "source": [
    "# from sklearn.pipeline import make_pipeline\n",
    "# from sklearn import datasets, svm\n",
    "# from sklearn.svm import SVC\n",
    "# from sklearn.pipeline import Pipeline"
   ]
  },
  {
   "cell_type": "code",
   "execution_count": 135,
   "id": "c4721683",
   "metadata": {},
   "outputs": [],
   "source": [
    "# # convert string to integer\n",
    "\n",
    "# df['Community_Area'] = df['Community_Area'].apply(np.int64)"
   ]
  },
  {
   "cell_type": "code",
   "execution_count": 136,
   "id": "9ac6eadf",
   "metadata": {},
   "outputs": [],
   "source": [
    "# def wrangle(X):\n",
    "#     X = X.copy()\n",
    "\n",
    "#     # Create 'year' feature\n",
    "#     X['Year'] = X['DATE'].dt.year\n",
    "\n",
    "#     # Create 'month' feature\n",
    "#     X['Month'] = X['DATE'].dt.month\n",
    "\n",
    "#     # Create 'day' feature\n",
    "#     X['Day'] = X['DATE'].dt.day\n",
    "\n",
    "#     # Create 'day of week' feature\n",
    "#     X['Weekday'] = X['DATE'].dt.weekday\n",
    "#     return X\n",
    "# train=wrangle(df)\n",
    "# train.head()"
   ]
  },
  {
   "cell_type": "code",
   "execution_count": 137,
   "id": "f8bcfd47",
   "metadata": {},
   "outputs": [],
   "source": [
    "# df.head()"
   ]
  },
  {
   "cell_type": "raw",
   "id": "a6761c8e",
   "metadata": {},
   "source": []
  },
  {
   "cell_type": "code",
   "execution_count": 138,
   "id": "5db5ccd6",
   "metadata": {},
   "outputs": [],
   "source": [
    "# df = df[['Year', 'Month', 'Day', 'Weekday', 'Community_Area', 'Average_Wind_Speed', 'Average_Temperature', 'Fog_Ice_Freezing_Fog',\n",
    "#          'Smoke_or_Haze']]\n",
    "# df.head()"
   ]
  },
  {
   "cell_type": "code",
   "execution_count": null,
   "id": "83977e79",
   "metadata": {},
   "outputs": [],
   "source": []
  },
  {
   "cell_type": "code",
   "execution_count": null,
   "id": "e49809e5",
   "metadata": {},
   "outputs": [],
   "source": []
  },
  {
   "cell_type": "code",
   "execution_count": null,
   "id": "da22871e",
   "metadata": {},
   "outputs": [],
   "source": []
  },
  {
   "cell_type": "code",
   "execution_count": null,
   "id": "aa84bf77",
   "metadata": {},
   "outputs": [],
   "source": []
  },
  {
   "cell_type": "code",
   "execution_count": null,
   "id": "48d489da",
   "metadata": {},
   "outputs": [],
   "source": []
  },
  {
   "cell_type": "code",
   "execution_count": 139,
   "id": "a5436612",
   "metadata": {},
   "outputs": [],
   "source": [
    "# # create random forest class pipeline\n",
    "\n",
    "\n",
    "# # pipeline = make_pipeline(\n",
    "# #     RandomForestClassifier(n_estimators = 100,\n",
    "# #                           max_depth = 15,\n",
    "# #                           random_state = 42, n_jobs=-1)\n",
    "# # )\n",
    "# # pipeline.fit(X,y)\n",
    "\n",
    "# pipeline = Pipeline([('feature_selection', SelectKBest(chi2, k=2)), ('classification', RandomForestClassifier()) ])\n",
    "# print(type(pipeline))"
   ]
  },
  {
   "cell_type": "code",
   "execution_count": 140,
   "id": "bdd6662f",
   "metadata": {},
   "outputs": [],
   "source": [
    "# # create predict function for testing and deployment\n",
    "\n",
    "# def predict (Community_Area,\n",
    "#              Average_Temperature,\n",
    "#              Month,\n",
    "#              Day,\n",
    "#              Weekday):\n",
    "#     df9=pd.DataFrame(\n",
    "#         columns = ['Community_Area',\n",
    "#                    'Average_Temperature',\n",
    "#                    'Month',\n",
    "#                    'Day',\n",
    "#                    'Weekday'],\n",
    "#                     data =[[Community_Area,\n",
    "#                             Average_Temperature,\n",
    "#                             Month,\n",
    "#                             Day,\n",
    "#                             Weekday]]\n",
    "#     )\n",
    "#     df9pred = pipeline.predict(df9)[0]\n",
    "#     return f'{df9pred:.0f}'"
   ]
  },
  {
   "cell_type": "code",
   "execution_count": 141,
   "id": "59a5bc5b",
   "metadata": {},
   "outputs": [],
   "source": [
    "# # Use the forest's predict method on the test data\n",
    "# predictions = pipeline.predict(X)\n",
    "# # Calculate the absolute errors\n",
    "# errors = abs(predictions - y)\n",
    "# # Print out the mean absolute error (mae)\n",
    "# print('Mean Absolute Error:', round(np.mean(errors), 5), 'crimes.')"
   ]
  },
  {
   "cell_type": "code",
   "execution_count": 142,
   "id": "d33b1a36",
   "metadata": {},
   "outputs": [],
   "source": [
    "# # export model for deployment\n",
    "\n",
    "# from joblib import dump\n",
    "# dump(pipeline, 'pipeline3.joblib', compress=True)"
   ]
  },
  {
   "cell_type": "code",
   "execution_count": 143,
   "id": "4bc8bb34",
   "metadata": {},
   "outputs": [],
   "source": [
    "# # Use the forest's predict method on the test data\n",
    "# predictions = pipeline.predict(X)\n",
    "# # Calculate the absolute errors\n",
    "# errors = abs(predictions - y)\n",
    "# # Print out the mean absolute error (mae)\n",
    "# print('Mean Absolute Error:', round(np.mean(errors), 5), 'crimes.')"
   ]
  },
  {
   "cell_type": "code",
   "execution_count": 144,
   "id": "a465cdd1",
   "metadata": {},
   "outputs": [],
   "source": [
    "# # Calculate mean absolute percentage error (MAPE)\n",
    "# mape = 100 * (errors / y)\n",
    "# # Calculate and display accuracy\n",
    "# accuracy = 100 - np.mean(mape)\n",
    "# print('Accuracy:', round(accuracy, 5), '%.')"
   ]
  },
  {
   "cell_type": "code",
   "execution_count": null,
   "id": "8ae80942",
   "metadata": {},
   "outputs": [],
   "source": []
  },
  {
   "cell_type": "code",
   "execution_count": null,
   "id": "687f3195",
   "metadata": {},
   "outputs": [],
   "source": []
  }
 ],
 "metadata": {
  "kernelspec": {
   "display_name": "Python 3.7.11 64-bit ('mlenv': conda)",
   "language": "python",
   "name": "python3711jvsc74a57bd098f13715fa9b17b84b00364d3ccb393cb4a92ea48adb4d40a7afccff289b2c80"
  },
  "language_info": {
   "codemirror_mode": {
    "name": "ipython",
    "version": 3
   },
   "file_extension": ".py",
   "mimetype": "text/x-python",
   "name": "python",
   "nbconvert_exporter": "python",
   "pygments_lexer": "ipython3",
   "version": "3.7.11"
  }
 },
 "nbformat": 4,
 "nbformat_minor": 5
}
